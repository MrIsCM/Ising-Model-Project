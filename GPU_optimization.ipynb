{
 "cells": [
  {
   "cell_type": "code",
   "execution_count": 22,
   "metadata": {},
   "outputs": [],
   "source": [
    "import torch\n",
    "import numpy as np\n",
    "import matplotlib.pyplot as plt\n",
    "from torch.nn.functional import conv2d\n",
    "from scipy.ndimage import convolve, generate_binary_structure\n",
    "device = torch.device('cuda' if torch.cuda.is_available() else 'cpu')"
   ]
  },
  {
   "cell_type": "code",
   "execution_count": 23,
   "metadata": {},
   "outputs": [
    {
     "data": {
      "text/plain": [
       "device(type='cpu')"
      ]
     },
     "execution_count": 23,
     "metadata": {},
     "output_type": "execute_result"
    }
   ],
   "source": [
    "device"
   ]
  },
  {
   "cell_type": "code",
   "execution_count": 24,
   "metadata": {},
   "outputs": [],
   "source": [
    "def get_clustered_temperatures(n_temperatures, center, low, high, fraction_center=0.7, width=0.15):\n",
    "\n",
    "    # 1. Calcular cuántos puntos van al centro\n",
    "    n_center = int(n_temperatures * fraction_center)\n",
    "    n_side = (n_temperatures - n_center) // 2\n",
    "    remainder = n_temperatures - (2 * n_side + n_center)  # por si es impar\n",
    "\n",
    "    # 2. Partes: izquierda (sparse), centro (dense), derecha (sparse)\n",
    "    Ts_left = np.linspace(low, center - width, n_side, endpoint=False)\n",
    "    Ts_center = np.linspace(center - width, center + width, n_center, endpoint=False)\n",
    "    Ts_right = np.linspace(center + width, high, n_side + remainder, endpoint=True)\n",
    "\n",
    "    # 3. Unir y retornar\n",
    "    Ts = np.concatenate([Ts_left, Ts_center, Ts_right])\n",
    "    return np.sort(Ts)"
   ]
  },
  {
   "cell_type": "code",
   "execution_count": 25,
   "metadata": {},
   "outputs": [],
   "source": [
    "kernel_np = generate_binary_structure(2, 1)\n",
    "kernel_np[1][1] = False\n",
    "KERNEL = torch.tensor(kernel_np.astype(np.float32)).unsqueeze(0).unsqueeze(0).to(device)\n",
    "\n",
    "def get_energy_arr(lattices):\n",
    "    arr = -lattices * conv2d(lattices, KERNEL, padding='same')\n",
    "    return arr\n",
    "    \n",
    "def get_energy(lattices):\n",
    "    # applies the nearest neighbours summation\n",
    "    return get_energy_arr(lattices).sum(axis=(1,2,3))\n",
    "\n",
    "def get_dE_arr(lattices):\n",
    "    return -2*get_energy_arr(lattices)"
   ]
  },
  {
   "cell_type": "code",
   "execution_count": 26,
   "metadata": {},
   "outputs": [],
   "source": [
    "@torch.no_grad()\n",
    "def metropolis(spin_tensor_batch, warm_times, eq_times, T, N):\n",
    "    \n",
    "    energies = torch.empty((eq_times, spin_tensor_batch.shape[0]), device=device)\n",
    "    avg_spins = torch.empty((eq_times, spin_tensor_batch.shape[0]), device=device)\n",
    "    T = T.reshape([-1,1,1,1])\n",
    "\n",
    "    for t in range(warm_times + eq_times):\n",
    "        i = np.random.randint(0,2)\n",
    "        j = np.random.randint(0,2)\n",
    "        dE = get_dE_arr(spin_tensor_batch)[:,:,i::2,j::2]\n",
    "        probs = torch.exp(-dE / T)\n",
    "        rands = torch.rand_like(dE)\n",
    "\n",
    "        # Apply the Metropolis condition\n",
    "        flip_mask = (dE < 0) | (rands < probs)\n",
    "        spin_tensor_batch[:,:,i::2,j::2][flip_mask] *= -1\n",
    "\n",
    "        # After warm-up, record values\n",
    "        if t >= warm_times:\n",
    "            idx = t - warm_times\n",
    "            energies[idx] = get_energy(spin_tensor_batch)\n",
    "            avg_spins[idx] = spin_tensor_batch.sum(dim=(1,2,3)) / (N * N)\n",
    "\n",
    "    return avg_spins, energies, spin_tensor_batch"
   ]
  },
  {
   "cell_type": "code",
   "execution_count": 27,
   "metadata": {},
   "outputs": [],
   "source": [
    "def generate_random_lattices(n_lattices, N, p=0.75):\n",
    "    \"\"\"Generate n_lattices of size N x N with spin values -1 or +1.\"\"\"\n",
    "    init_random = torch.rand((n_lattices, 1, N, N), device=device)\n",
    "    lattices = torch.ones_like(init_random, device=device)\n",
    "    lattices[init_random < p] = -1\n",
    "    return lattices"
   ]
  },
  {
   "cell_type": "code",
   "execution_count": 30,
   "metadata": {},
   "outputs": [
    {
     "name": "stdout",
     "output_type": "stream",
     "text": [
      "Temperature 0.50 done\n",
      "Temperature 1.20 done\n",
      "Temperature 1.90 done\n",
      "Temperature 2.60 done\n",
      "Temperature 3.30 done\n",
      "Temperature 4.00 done\n"
     ]
    }
   ],
   "source": [
    "warm_times = 2000\n",
    "eq_times = 100\n",
    "\n",
    "# Ts = get_clustered_temperatures(n_temperatures=100, center=2.26, low=0.5, high=4)\n",
    "Ts = np.linspace(0.5, 4, 6)\n",
    "\n",
    "N = 50\n",
    "n_lattices = 2\n",
    "\n",
    "avg_spins = torch.empty((len(Ts), n_lattices), device=device)\n",
    "std_spins = torch.empty((len(Ts), n_lattices), device=device)\n",
    "avg_energies = torch.empty((len(Ts), n_lattices), device=device)\n",
    "std_energies = torch.empty((len(Ts), n_lattices), device=device)\n",
    "last_states = torch.empty((len(Ts), n_lattices, 1, N, N), device=device, dtype=torch.int8)\n",
    "\n",
    "\n",
    "for i, T in enumerate(Ts):\n",
    "\n",
    "    lattices = generate_random_lattices(n_lattices, N, p=0.25)\n",
    "\n",
    "    temps = T*torch.ones(lattices.shape[0]).to(device)\n",
    "    spins, energies, state = metropolis(lattices, warm_times, eq_times, temps, N)\n",
    "\n",
    "    avg_spins[i] = torch.mean(spins, axis=0)\n",
    "    std_spins[i] = torch.std(spins, axis=0)\n",
    "    avg_energies[i] = torch.mean(energies, axis=0)\n",
    "    std_energies[i] = torch.std(energies, axis=0)\n",
    "    last_states[i] = state\n",
    "\n",
    "    print(f\"Temperature {T:.2f} done\")\n",
    "\n",
    "# Save avg and std of spins and energies\n",
    "np.savez(f'N_{N}_avg_std_spins_energies.npz',\n",
    "         avg_spins=avg_spins.cpu().numpy(), \n",
    "         std_spins=std_spins.cpu().numpy(), \n",
    "         avg_energies=avg_energies.cpu().numpy(), \n",
    "         std_energies=std_energies.cpu().numpy()\n",
    "         )"
   ]
  }
 ],
 "metadata": {
  "kaggle": {
   "accelerator": "gpu",
   "dataSources": [],
   "dockerImageVersionId": 31011,
   "isGpuEnabled": true,
   "isInternetEnabled": true,
   "language": "python",
   "sourceType": "notebook"
  },
  "kernelspec": {
   "display_name": "ising_env",
   "language": "python",
   "name": "python3"
  },
  "language_info": {
   "codemirror_mode": {
    "name": "ipython",
    "version": 3
   },
   "file_extension": ".py",
   "mimetype": "text/x-python",
   "name": "python",
   "nbconvert_exporter": "python",
   "pygments_lexer": "ipython3",
   "version": "3.12.7"
  }
 },
 "nbformat": 4,
 "nbformat_minor": 4
}
